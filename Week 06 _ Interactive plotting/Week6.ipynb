{
 "cells": [
  {
   "cell_type": "markdown",
   "metadata": {},
   "source": [
    "## Intro\n",
    "\n",
    "The purpose of today's class is to explore data using **interactive visualizations**. Interactivity is a key part of modern dataviz. It's a way to allow users of your visualizations get their own feel for the data ... to create richer visualization, where people who use your work can expose more of the data by exploring.\n"
   ]
  },
  {
   "cell_type": "code",
   "execution_count": 1,
   "metadata": {},
   "outputs": [],
   "source": [
    "import pandas as pd\n",
    "pd.set_option('display.float_format', '{:.7f}'.format)\n",
    "import numpy as np\n",
    "import matplotlib.pyplot as plt\n",
    "import seaborn as sns\n",
    "import bokeh\n",
    "from bokeh.plotting import figure\n",
    "from bokeh.models import ColumnDataSource, FactorRange\n",
    "from bokeh.io import show"
   ]
  },
  {
   "cell_type": "markdown",
   "metadata": {},
   "source": [
    "## Part 1: Video Lectures and Reading\n",
    "\n",
    "Starting this week, we'll be playing around with *explanatory data visualization*. Roughly speaking this means using data visualization to communicate your results to others. Thus, there are new things to think about. \n",
    "\n",
    "Until today we have worked with static data visualization. However, exploratory data analysis means to be able to explore the multi-faceted nature of data and *interactive dataviz* is a handy tool to do it! It allows to play with the data: Toggle the view. Zoom. Drag. Show more details. All those things. Those are a key part of modern data visualization. \n",
    "\n",
    "The video below provides context about these points.\n",
    "\n",
    "We start with the video and then read a bit from a scientific article about types of explanatory dataviz. (*The video is from an old version of the class that used D3, so just ignore those parts.*).\n",
    "\n",
    "[![IMAGE ALT TEXT HERE](https://img.youtube.com/vi/yHKYMGwefso/0.jpg)](https://www.youtube.com/watch?v=yHKYMGwefso)"
   ]
  },
  {
   "cell_type": "markdown",
   "metadata": {},
   "source": [
    "> *Exercises*: Explanatory data visualization\n",
    "\n",
    "> * What are the three key elements to keep in mind when you design an explanatory visualization?\n",
    "><font face=\"Comic sans MS\" size=\"3\" color=\"blue\"> (1) Start with the question, what is that we cant to communicate. (2) allow exploration. (by making the visualization interective we can make our audians more engaged) (3) you should know your readers. (technical people or non technical managers) different prople have different level of understandings.   \n",
    "\n",
    "\n",
    "> * In the video I talk about (1) *overview first*,  (2) *zoom and filter*,  (3) *details on demand*. \n",
    ">   - Go online and find a visualization that follows these principles (don't use one from the video). \n",
    ">   - Explain how your video achieves (1)-(3). It might be useful to use screenshots to illustrate your explanation.\n",
    "> * Explain in your own words: How is explanatory data analysis different from exploratory data analysis?"
   ]
  },
  {
   "cell_type": "markdown",
   "metadata": {},
   "source": [
    "## Part 2: Interactive visualizations with Bokeh\n",
    "\n",
    "\n",
    "\n",
    "To really master interactive visualizations, you will need to work with JavaScript, especially [D3](https://d3js.org). Given the limited time available for this class, we can't squeeze that in. But luckily Python has some pretty good options for interactive visualizations. You can find a range of different options [here](https://mode.com/blog/python-interactive-plot-libraries/).\n",
    "\n",
    "Today, we'll explore [`Bokeh`](https://docs.bokeh.org/en/latest/), which provides lots of nice interactive funtionalities to Python. To work with Bokeh, we first set up our system:\n",
    "\n",
    "1. If you haven't installed it yet please do so. You can simply follow [these steps](https://docs.bokeh.org/en/latest/docs/first_steps/installation.html)\n",
    "\n",
    "2. To include Bokeh in your notebooks you can follow the [Bokeh: Using with Jupyter](https://docs.bokeh.org/en/latest/docs/user_guide/output/jupyter.html#jupyter) guide. Come back to this one when you need it\n",
    "\n",
    "3. We aim to give you a gentle start with Bokeh and I am going to include more example code than usual in the follwing.\n",
    "   * **HINT 1**: If you're not an experienced Python user, I recommend going to the [official user's guide](https://docs.bokeh.org/en/latest/docs/user_guide.html#userguide) and working through it. Start by clicking \"Introduction\" in the linked page. That page has a glossary, a section on output methods, stuff on settings, and interfaces that you can scroll through. The next page *Basic Plotting* where the action is. Spend some time working through that.\n",
    "   * **HINT 2**: And by \"working through it\", I mean copy, paste, and run the code in your own notebook. "
   ]
  },
  {
   "cell_type": "markdown",
   "metadata": {},
   "source": [
    "Ok. Let's get started. First a general announcement on the data.\n",
    "\n",
    "> **Announcement**\n",
    "> * During this entire lecture, as always, we are going to work with the SF Crime Data. \n",
    "> * We will use data for the **period 2010-2017***.\n",
    "\n",
    "\n",
    "Now, to get you in the mood here's a little gif to illustrate what the goal of this exercise is:"
   ]
  },
  {
   "cell_type": "markdown",
   "metadata": {},
   "source": [
    "![Movie](https://github.com/suneman/socialdata2023/blob/main/files/week8_1.gif?raw=true)\n",
    "\n",
    "If the gif isn't displaying on your system, you can download it [here](https://github.com/suneman/socialdata2023/blob/main/files/week8_1.gif) and display locally."
   ]
  },
  {
   "cell_type": "markdown",
   "metadata": {},
   "source": [
    "> ***Exercise***: Recreate the results from **Week 2** as an interactive visualisation (shown in the gif). To complete the exercise, follow the steps below to create your own version of the dataviz.\n",
    "\n",
    "### Data prep\n",
    "\n",
    "A key step is to set up the data right. So for this one, we'll be pretty strict about the steps. The workflow is\n",
    "\n",
    "1. Take the data for the period of 2010-2017 and group it by hour-of-the-day.\n",
    "2. We would like to be able to easily compare how the distribution of crimes differ from each other, not absolute numbers, so we will work on *normalized data*:\n",
    "    * To normalise data for within a crime category you simply to devide the count for each hour by the total number of this crime type. (To give a concrete example in the `ASSAULT` category, take the number of assault-counts in 1st hour you should devide by the total number of assaults, then you devide number of assaults in 2nd hour by the total number of assaults and so on)\n",
    "    *  Your life will be easiest if you organize your dataframe as shown in [this helpful screenshot](https://github.com/suneman/socialdata2023/blob/main/files/W6_Part2_data.png)."
   ]
  },
  {
   "cell_type": "code",
   "execution_count": 2,
   "metadata": {},
   "outputs": [],
   "source": [
    "#ake the data for the period of 2010-2017 and group it by hour-of-the-day.\n",
    "data_link = 'D:\\DTU\\SP 2023\\Social Data Viz\\Data'\n",
    "df = pd.read_pickle(data_link+'\\ordered_Police_Department_Incident_Reports__Historical.pickle')"
   ]
  },
  {
   "cell_type": "code",
   "execution_count": 6,
   "metadata": {},
   "outputs": [],
   "source": [
    "#df[(df['Category']=='BURGLARY') & (df['Hour']==1)].count"
   ]
  },
  {
   "cell_type": "code",
   "execution_count": 4,
   "metadata": {},
   "outputs": [
    {
     "data": {
      "text/html": [
       "<div>\n",
       "<style scoped>\n",
       "    .dataframe tbody tr th:only-of-type {\n",
       "        vertical-align: middle;\n",
       "    }\n",
       "\n",
       "    .dataframe tbody tr th {\n",
       "        vertical-align: top;\n",
       "    }\n",
       "\n",
       "    .dataframe thead th {\n",
       "        text-align: right;\n",
       "    }\n",
       "</style>\n",
       "<table border=\"1\" class=\"dataframe\">\n",
       "  <thead>\n",
       "    <tr style=\"text-align: right;\">\n",
       "      <th>Category</th>\n",
       "      <th>ASSAULT</th>\n",
       "      <th>BURGLARY</th>\n",
       "      <th>DISORDERLY CONDUCT</th>\n",
       "      <th>DRIVING UNDER THE INFLUENCE</th>\n",
       "      <th>DRUG/NARCOTIC</th>\n",
       "      <th>DRUNKENNESS</th>\n",
       "      <th>LARCENY/THEFT</th>\n",
       "      <th>PROSTITUTION</th>\n",
       "      <th>ROBBERY</th>\n",
       "      <th>STOLEN PROPERTY</th>\n",
       "      <th>TRESPASS</th>\n",
       "      <th>VANDALISM</th>\n",
       "      <th>VEHICLE THEFT</th>\n",
       "      <th>WEAPON LAWS</th>\n",
       "    </tr>\n",
       "    <tr>\n",
       "      <th>Hour</th>\n",
       "      <th></th>\n",
       "      <th></th>\n",
       "      <th></th>\n",
       "      <th></th>\n",
       "      <th></th>\n",
       "      <th></th>\n",
       "      <th></th>\n",
       "      <th></th>\n",
       "      <th></th>\n",
       "      <th></th>\n",
       "      <th></th>\n",
       "      <th></th>\n",
       "      <th></th>\n",
       "      <th></th>\n",
       "    </tr>\n",
       "  </thead>\n",
       "  <tbody>\n",
       "    <tr>\n",
       "      <th>0</th>\n",
       "      <td>8878</td>\n",
       "      <td>3386</td>\n",
       "      <td>517</td>\n",
       "      <td>705</td>\n",
       "      <td>3686</td>\n",
       "      <td>817</td>\n",
       "      <td>18568</td>\n",
       "      <td>1342</td>\n",
       "      <td>2908</td>\n",
       "      <td>534</td>\n",
       "      <td>550</td>\n",
       "      <td>6352</td>\n",
       "      <td>4695</td>\n",
       "      <td>1087</td>\n",
       "    </tr>\n",
       "    <tr>\n",
       "      <th>1</th>\n",
       "      <td>8074</td>\n",
       "      <td>2186</td>\n",
       "      <td>380</td>\n",
       "      <td>647</td>\n",
       "      <td>2242</td>\n",
       "      <td>774</td>\n",
       "      <td>11481</td>\n",
       "      <td>1041</td>\n",
       "      <td>2987</td>\n",
       "      <td>379</td>\n",
       "      <td>393</td>\n",
       "      <td>4451</td>\n",
       "      <td>3206</td>\n",
       "      <td>815</td>\n",
       "    </tr>\n",
       "    <tr>\n",
       "      <th>2</th>\n",
       "      <td>7258</td>\n",
       "      <td>2358</td>\n",
       "      <td>341</td>\n",
       "      <td>642</td>\n",
       "      <td>1817</td>\n",
       "      <td>656</td>\n",
       "      <td>7505</td>\n",
       "      <td>771</td>\n",
       "      <td>3129</td>\n",
       "      <td>317</td>\n",
       "      <td>436</td>\n",
       "      <td>4210</td>\n",
       "      <td>2541</td>\n",
       "      <td>712</td>\n",
       "    </tr>\n",
       "    <tr>\n",
       "      <th>3</th>\n",
       "      <td>3557</td>\n",
       "      <td>2412</td>\n",
       "      <td>216</td>\n",
       "      <td>286</td>\n",
       "      <td>1235</td>\n",
       "      <td>258</td>\n",
       "      <td>4688</td>\n",
       "      <td>540</td>\n",
       "      <td>1888</td>\n",
       "      <td>246</td>\n",
       "      <td>359</td>\n",
       "      <td>2819</td>\n",
       "      <td>1572</td>\n",
       "      <td>439</td>\n",
       "    </tr>\n",
       "    <tr>\n",
       "      <th>4</th>\n",
       "      <td>2216</td>\n",
       "      <td>2143</td>\n",
       "      <td>158</td>\n",
       "      <td>106</td>\n",
       "      <td>900</td>\n",
       "      <td>132</td>\n",
       "      <td>3042</td>\n",
       "      <td>464</td>\n",
       "      <td>1225</td>\n",
       "      <td>222</td>\n",
       "      <td>260</td>\n",
       "      <td>1879</td>\n",
       "      <td>1215</td>\n",
       "      <td>308</td>\n",
       "    </tr>\n",
       "  </tbody>\n",
       "</table>\n",
       "</div>"
      ],
      "text/plain": [
       "Category  ASSAULT  BURGLARY  DISORDERLY CONDUCT  DRIVING UNDER THE INFLUENCE  \\\n",
       "Hour                                                                           \n",
       "0            8878      3386                 517                          705   \n",
       "1            8074      2186                 380                          647   \n",
       "2            7258      2358                 341                          642   \n",
       "3            3557      2412                 216                          286   \n",
       "4            2216      2143                 158                          106   \n",
       "\n",
       "Category  DRUG/NARCOTIC  DRUNKENNESS  LARCENY/THEFT  PROSTITUTION  ROBBERY  \\\n",
       "Hour                                                                         \n",
       "0                  3686          817          18568          1342     2908   \n",
       "1                  2242          774          11481          1041     2987   \n",
       "2                  1817          656           7505           771     3129   \n",
       "3                  1235          258           4688           540     1888   \n",
       "4                   900          132           3042           464     1225   \n",
       "\n",
       "Category  STOLEN PROPERTY  TRESPASS  VANDALISM  VEHICLE THEFT  WEAPON LAWS  \n",
       "Hour                                                                        \n",
       "0                     534       550       6352           4695         1087  \n",
       "1                     379       393       4451           3206          815  \n",
       "2                     317       436       4210           2541          712  \n",
       "3                     246       359       2819           1572          439  \n",
       "4                     222       260       1879           1215          308  "
      ]
     },
     "execution_count": 4,
     "metadata": {},
     "output_type": "execute_result"
    }
   ],
   "source": [
    "df_grouped = df.groupby(['Hour', 'Category']).size().unstack('Category')\n",
    "df_grouped.head()"
   ]
  },
  {
   "cell_type": "code",
   "execution_count": 10,
   "metadata": {},
   "outputs": [
    {
     "data": {
      "text/html": [
       "<div>\n",
       "<style scoped>\n",
       "    .dataframe tbody tr th:only-of-type {\n",
       "        vertical-align: middle;\n",
       "    }\n",
       "\n",
       "    .dataframe tbody tr th {\n",
       "        vertical-align: top;\n",
       "    }\n",
       "\n",
       "    .dataframe thead th {\n",
       "        text-align: right;\n",
       "    }\n",
       "</style>\n",
       "<table border=\"1\" class=\"dataframe\">\n",
       "  <thead>\n",
       "    <tr style=\"text-align: right;\">\n",
       "      <th>Category</th>\n",
       "      <th>ASSAULT</th>\n",
       "      <th>BURGLARY</th>\n",
       "      <th>DISORDERLY CONDUCT</th>\n",
       "      <th>DRIVING UNDER THE INFLUENCE</th>\n",
       "      <th>DRUG/NARCOTIC</th>\n",
       "      <th>DRUNKENNESS</th>\n",
       "      <th>LARCENY/THEFT</th>\n",
       "      <th>PROSTITUTION</th>\n",
       "      <th>ROBBERY</th>\n",
       "      <th>STOLEN PROPERTY</th>\n",
       "      <th>TRESPASS</th>\n",
       "      <th>VANDALISM</th>\n",
       "      <th>VEHICLE THEFT</th>\n",
       "      <th>WEAPON LAWS</th>\n",
       "    </tr>\n",
       "    <tr>\n",
       "      <th>Hour</th>\n",
       "      <th></th>\n",
       "      <th></th>\n",
       "      <th></th>\n",
       "      <th></th>\n",
       "      <th></th>\n",
       "      <th></th>\n",
       "      <th></th>\n",
       "      <th></th>\n",
       "      <th></th>\n",
       "      <th></th>\n",
       "      <th></th>\n",
       "      <th></th>\n",
       "      <th></th>\n",
       "      <th></th>\n",
       "    </tr>\n",
       "  </thead>\n",
       "  <tbody>\n",
       "    <tr>\n",
       "      <th>0</th>\n",
       "      <td>0.0544135</td>\n",
       "      <td>0.0380573</td>\n",
       "      <td>0.0525513</td>\n",
       "      <td>0.1267986</td>\n",
       "      <td>0.0316797</td>\n",
       "      <td>0.0844357</td>\n",
       "      <td>0.0399858</td>\n",
       "      <td>0.0815657</td>\n",
       "      <td>0.0544396</td>\n",
       "      <td>0.0477084</td>\n",
       "      <td>0.0294417</td>\n",
       "      <td>0.0567482</td>\n",
       "      <td>0.0376326</td>\n",
       "      <td>0.0532922</td>\n",
       "    </tr>\n",
       "    <tr>\n",
       "      <th>1</th>\n",
       "      <td>0.0494858</td>\n",
       "      <td>0.0245698</td>\n",
       "      <td>0.0386257</td>\n",
       "      <td>0.1163669</td>\n",
       "      <td>0.0192691</td>\n",
       "      <td>0.0799917</td>\n",
       "      <td>0.0247241</td>\n",
       "      <td>0.0632711</td>\n",
       "      <td>0.0559185</td>\n",
       "      <td>0.0338604</td>\n",
       "      <td>0.0210374</td>\n",
       "      <td>0.0397649</td>\n",
       "      <td>0.0256975</td>\n",
       "      <td>0.0399569</td>\n",
       "    </tr>\n",
       "    <tr>\n",
       "      <th>2</th>\n",
       "      <td>0.0444845</td>\n",
       "      <td>0.0265030</td>\n",
       "      <td>0.0346615</td>\n",
       "      <td>0.1154676</td>\n",
       "      <td>0.0156164</td>\n",
       "      <td>0.0677966</td>\n",
       "      <td>0.0161619</td>\n",
       "      <td>0.0468608</td>\n",
       "      <td>0.0585769</td>\n",
       "      <td>0.0283213</td>\n",
       "      <td>0.0233392</td>\n",
       "      <td>0.0376118</td>\n",
       "      <td>0.0203673</td>\n",
       "      <td>0.0349071</td>\n",
       "    </tr>\n",
       "    <tr>\n",
       "      <th>3</th>\n",
       "      <td>0.0218010</td>\n",
       "      <td>0.0271100</td>\n",
       "      <td>0.0219557</td>\n",
       "      <td>0.0514388</td>\n",
       "      <td>0.0106143</td>\n",
       "      <td>0.0266639</td>\n",
       "      <td>0.0100955</td>\n",
       "      <td>0.0328208</td>\n",
       "      <td>0.0353446</td>\n",
       "      <td>0.0219780</td>\n",
       "      <td>0.0192174</td>\n",
       "      <td>0.0251847</td>\n",
       "      <td>0.0126003</td>\n",
       "      <td>0.0215228</td>\n",
       "    </tr>\n",
       "    <tr>\n",
       "      <th>4</th>\n",
       "      <td>0.0135819</td>\n",
       "      <td>0.0240865</td>\n",
       "      <td>0.0160602</td>\n",
       "      <td>0.0190647</td>\n",
       "      <td>0.0077351</td>\n",
       "      <td>0.0136420</td>\n",
       "      <td>0.0065509</td>\n",
       "      <td>0.0282015</td>\n",
       "      <td>0.0229328</td>\n",
       "      <td>0.0198338</td>\n",
       "      <td>0.0139179</td>\n",
       "      <td>0.0167868</td>\n",
       "      <td>0.0097388</td>\n",
       "      <td>0.0151003</td>\n",
       "    </tr>\n",
       "  </tbody>\n",
       "</table>\n",
       "</div>"
      ],
      "text/plain": [
       "Category   ASSAULT  BURGLARY  DISORDERLY CONDUCT  DRIVING UNDER THE INFLUENCE  \\\n",
       "Hour                                                                            \n",
       "0        0.0544135 0.0380573           0.0525513                    0.1267986   \n",
       "1        0.0494858 0.0245698           0.0386257                    0.1163669   \n",
       "2        0.0444845 0.0265030           0.0346615                    0.1154676   \n",
       "3        0.0218010 0.0271100           0.0219557                    0.0514388   \n",
       "4        0.0135819 0.0240865           0.0160602                    0.0190647   \n",
       "\n",
       "Category  DRUG/NARCOTIC  DRUNKENNESS  LARCENY/THEFT  PROSTITUTION   ROBBERY  \\\n",
       "Hour                                                                          \n",
       "0             0.0316797    0.0844357      0.0399858     0.0815657 0.0544396   \n",
       "1             0.0192691    0.0799917      0.0247241     0.0632711 0.0559185   \n",
       "2             0.0156164    0.0677966      0.0161619     0.0468608 0.0585769   \n",
       "3             0.0106143    0.0266639      0.0100955     0.0328208 0.0353446   \n",
       "4             0.0077351    0.0136420      0.0065509     0.0282015 0.0229328   \n",
       "\n",
       "Category  STOLEN PROPERTY  TRESPASS  VANDALISM  VEHICLE THEFT  WEAPON LAWS  \n",
       "Hour                                                                        \n",
       "0               0.0477084 0.0294417  0.0567482      0.0376326    0.0532922  \n",
       "1               0.0338604 0.0210374  0.0397649      0.0256975    0.0399569  \n",
       "2               0.0283213 0.0233392  0.0376118      0.0203673    0.0349071  \n",
       "3               0.0219780 0.0192174  0.0251847      0.0126003    0.0215228  \n",
       "4               0.0198338 0.0139179  0.0167868      0.0097388    0.0151003  "
      ]
     },
     "execution_count": 10,
     "metadata": {},
     "output_type": "execute_result"
    }
   ],
   "source": [
    "df_normal = df_grouped.apply(lambda x: x / x.sum(), axis=0)\n",
    "df_normal.head()"
   ]
  },
  {
   "cell_type": "markdown",
   "metadata": {},
   "source": [
    "1. First, let's convert our **Pandas Dataframe** to **Bokeh ColumnDataSource**: "
   ]
  },
  {
   "cell_type": "code",
   "execution_count": 106,
   "metadata": {},
   "outputs": [],
   "source": [
    "from bokeh.models import ColumnDataSource, FactorRange\n",
    "from bokeh.io import show\n",
    "source = ColumnDataSource(df_normal)"
   ]
  },
  {
   "cell_type": "code",
   "execution_count": 107,
   "metadata": {},
   "outputs": [],
   "source": [
    "hour = list(df_normal.index)\n",
    "hour = [str(i) for i in hour]\n",
    "p = figure(x_range = FactorRange(factors=hour))"
   ]
  },
  {
   "cell_type": "code",
   "execution_count": 108,
   "metadata": {},
   "outputs": [],
   "source": [
    "bar ={} # to store vbars\n",
    "### here we will do a for loop:\n",
    "for indx,i in enumerate(focuscrimes):\n",
    "    bar[i] = p.vbar(x='Hour',  top=i, source= source, \n",
    "                    ### we will create a vbar for each focuscrime\n",
    "                    legend_label=i,muted_alpha=0.1,muted =False) "
   ]
  },
  {
   "cell_type": "code",
   "execution_count": 109,
   "metadata": {},
   "outputs": [],
   "source": [
    "p.legend.click_policy=\"mute\""
   ]
  },
  {
   "cell_type": "code",
   "execution_count": 110,
   "metadata": {},
   "outputs": [],
   "source": [
    "show(p)"
   ]
  },
  {
   "cell_type": "code",
   "execution_count": null,
   "metadata": {},
   "outputs": [],
   "source": []
  },
  {
   "cell_type": "code",
   "execution_count": null,
   "metadata": {},
   "outputs": [],
   "source": []
  },
  {
   "cell_type": "code",
   "execution_count": null,
   "metadata": {},
   "outputs": [],
   "source": []
  },
  {
   "cell_type": "code",
   "execution_count": null,
   "metadata": {},
   "outputs": [],
   "source": []
  },
  {
   "cell_type": "code",
   "execution_count": null,
   "metadata": {},
   "outputs": [],
   "source": []
  },
  {
   "cell_type": "code",
   "execution_count": null,
   "metadata": {},
   "outputs": [],
   "source": []
  },
  {
   "cell_type": "code",
   "execution_count": null,
   "metadata": {},
   "outputs": [],
   "source": []
  },
  {
   "cell_type": "code",
   "execution_count": null,
   "metadata": {},
   "outputs": [],
   "source": []
  },
  {
   "cell_type": "code",
   "execution_count": null,
   "metadata": {},
   "outputs": [],
   "source": []
  },
  {
   "cell_type": "code",
   "execution_count": null,
   "metadata": {},
   "outputs": [],
   "source": []
  },
  {
   "cell_type": "code",
   "execution_count": null,
   "metadata": {},
   "outputs": [],
   "source": []
  },
  {
   "cell_type": "code",
   "execution_count": null,
   "metadata": {},
   "outputs": [],
   "source": []
  },
  {
   "cell_type": "code",
   "execution_count": null,
   "metadata": {},
   "outputs": [],
   "source": []
  },
  {
   "cell_type": "code",
   "execution_count": null,
   "metadata": {},
   "outputs": [],
   "source": []
  },
  {
   "cell_type": "code",
   "execution_count": null,
   "metadata": {},
   "outputs": [],
   "source": []
  },
  {
   "cell_type": "code",
   "execution_count": null,
   "metadata": {},
   "outputs": [],
   "source": []
  },
  {
   "cell_type": "code",
   "execution_count": null,
   "metadata": {},
   "outputs": [],
   "source": []
  },
  {
   "cell_type": "code",
   "execution_count": null,
   "metadata": {},
   "outputs": [],
   "source": []
  },
  {
   "cell_type": "code",
   "execution_count": null,
   "metadata": {},
   "outputs": [],
   "source": []
  },
  {
   "cell_type": "code",
   "execution_count": null,
   "metadata": {},
   "outputs": [],
   "source": []
  },
  {
   "cell_type": "code",
   "execution_count": null,
   "metadata": {},
   "outputs": [],
   "source": []
  },
  {
   "cell_type": "code",
   "execution_count": null,
   "metadata": {},
   "outputs": [],
   "source": []
  },
  {
   "cell_type": "code",
   "execution_count": 22,
   "metadata": {},
   "outputs": [],
   "source": [
    "from bokeh.models import ColumnDataSource, FactorRange\n",
    "from bokeh.io import show\n",
    "source = ColumnDataSource(df_normal)\n",
    "## it is a standard way to convert your df to bokeh"
   ]
  },
  {
   "cell_type": "markdown",
   "metadata": {},
   "source": [
    "2. We also need to create an empty figure (we will add our stuff here later on). Mini sub-exercise: Find the a guide how to define a figure in Bokeh online. Here is a little help:\n",
    "  > ```python\n",
    "  > p = figure(...., x_range = FactorRange(factors=hours), ...) \n",
    "  > #p is a standard way to call figures in Bokeh\n",
    "  > #make sure to add x_range. In my case hours is a list on the form ['1', '2', '3' ... , '24']\n",
    "  > #read up on the FactorRange in the guide\n",
    "  > #do not forget to add other attributes to the figure, e.g. title, axis names and so on\n",
    "  > ```"
   ]
  },
  {
   "cell_type": "code",
   "execution_count": 23,
   "metadata": {},
   "outputs": [],
   "source": [
    "hour = list(df_normal.index)\n",
    "hour = [str(i) for i in hour]\n",
    "p = figure(x_range = FactorRange(factors=hour))"
   ]
  },
  {
   "cell_type": "markdown",
   "metadata": {},
   "source": [
    "3. Now we are going to add the bars. In order to do so, we will use **vbar** (see the guide for help):\n",
    "  > ```python\n",
    "  > bar ={} # to store vbars\n",
    "  > ### here we will do a for loop:\n",
    "  > for indx,i in enumerate(focuscrimes):\n",
    "  >     bar[i] = p.vbar(x='name_of_the_column_that_contain_hours',  top=i, source= src, \n",
    "  >                     ### we will create a vbar for each focuscrime\n",
    "  >                     legend_label=i,  muted_alpha=..., muted = ....) \n",
    "  > #i stands for a column that we use, top=y; we are specifying that our numbers comes from column i\n",
    "  > #read up what legend_label, muted and muted_alpha do... you can add more attributes (you HAVE TO)\n",
    "  > ```"
   ]
  },
  {
   "cell_type": "code",
   "execution_count": 34,
   "metadata": {},
   "outputs": [],
   "source": [
    "focuscrimes = list(set(['WEAPON LAWS', 'PROSTITUTION', 'DRIVING UNDER THE INFLUENCE', 'ROBBERY', 'BURGLARY', 'ASSAULT', 'DRUNKENNESS', 'DRUG/NARCOTIC', 'TRESPASS', 'LARCENY/THEFT', 'VANDALISM', 'VEHICLE THEFT', 'STOLEN PROPERTY', 'DISORDERLY CONDUCT']))\n",
    "bar ={} # to store vbars\n",
    "### here we will do a for loop:\n",
    "for indx,i in enumerate(focuscrimes):\n",
    "    bar[i] = p.vbar(x='Hour',  top=i, source= source, \n",
    "                    ### we will create a vbar for each focuscrime\n",
    "                    legend_label=i, muted_alpha=0.2) "
   ]
  },
  {
   "cell_type": "code",
   "execution_count": 35,
   "metadata": {},
   "outputs": [],
   "source": [
    "p.legend.click_policy=\"mute\""
   ]
  },
  {
   "cell_type": "code",
   "execution_count": 36,
   "metadata": {},
   "outputs": [
    {
     "name": "stderr",
     "output_type": "stream",
     "text": [
      "ERROR:bokeh.core.validation.check:E-1001 (BAD_COLUMN_NAME): Glyph refers to nonexistent column name. This could either be due to a misspelling or typo, or due to an expected column being missing. : key \"x\" value \"name_of_the_column_that_contain_hours\" [renderer: GlyphRenderer(id='1079', ...)]\n",
      "ERROR:bokeh.core.validation.check:E-1001 (BAD_COLUMN_NAME): Glyph refers to nonexistent column name. This could either be due to a misspelling or typo, or due to an expected column being missing. : key \"x\" value \"hour\" (closest match: \"Hour\") [renderer: GlyphRenderer(id='2836', ...)]\n",
      "ERROR:bokeh.core.validation.check:E-1001 (BAD_COLUMN_NAME): Glyph refers to nonexistent column name. This could either be due to a misspelling or typo, or due to an expected column being missing. : key \"x\" value \"hour\" (closest match: \"Hour\") [renderer: GlyphRenderer(id='2875', ...)]\n",
      "ERROR:bokeh.core.validation.check:E-1001 (BAD_COLUMN_NAME): Glyph refers to nonexistent column name. This could either be due to a misspelling or typo, or due to an expected column being missing. : key \"x\" value \"name_of_the_column_that_contain_hours\" [renderer: GlyphRenderer(id='1061', ...)]\n",
      "ERROR:bokeh.core.validation.check:E-1001 (BAD_COLUMN_NAME): Glyph refers to nonexistent column name. This could either be due to a misspelling or typo, or due to an expected column being missing. : key \"x\" value \"name_of_the_column_that_contain_hours\" [renderer: GlyphRenderer(id='1241', ...)]\n",
      "ERROR:bokeh.core.validation.check:E-1001 (BAD_COLUMN_NAME): Glyph refers to nonexistent column name. This could either be due to a misspelling or typo, or due to an expected column being missing. : key \"x\" value \"hour\" (closest match: \"Hour\") [renderer: GlyphRenderer(id='3031', ...)]\n",
      "ERROR:bokeh.core.validation.check:E-1001 (BAD_COLUMN_NAME): Glyph refers to nonexistent column name. This could either be due to a misspelling or typo, or due to an expected column being missing. : key \"x\" value \"name_of_the_column_that_contain_hours\" [renderer: GlyphRenderer(id='1097', ...)]\n",
      "ERROR:bokeh.core.validation.check:E-1001 (BAD_COLUMN_NAME): Glyph refers to nonexistent column name. This could either be due to a misspelling or typo, or due to an expected column being missing. : key \"x\" value \"name_of_the_column_that_contain_hours\" [renderer: GlyphRenderer(id='1259', ...)]\n",
      "ERROR:bokeh.core.validation.check:E-1001 (BAD_COLUMN_NAME): Glyph refers to nonexistent column name. This could either be due to a misspelling or typo, or due to an expected column being missing. : key \"x\" value \"hour\" (closest match: \"Hour\") [renderer: GlyphRenderer(id='3070', ...)]\n",
      "ERROR:bokeh.core.validation.check:E-1001 (BAD_COLUMN_NAME): Glyph refers to nonexistent column name. This could either be due to a misspelling or typo, or due to an expected column being missing. : key \"x\" value \"name_of_the_column_that_contain_hours\" [renderer: GlyphRenderer(id='1115', ...)]\n",
      "ERROR:bokeh.core.validation.check:E-1001 (BAD_COLUMN_NAME): Glyph refers to nonexistent column name. This could either be due to a misspelling or typo, or due to an expected column being missing. : key \"x\" value \"name_of_the_column_that_contain_hours\" [renderer: GlyphRenderer(id='1277', ...)]\n",
      "ERROR:bokeh.core.validation.check:E-1001 (BAD_COLUMN_NAME): Glyph refers to nonexistent column name. This could either be due to a misspelling or typo, or due to an expected column being missing. : key \"x\" value \"hour\" (closest match: \"Hour\") [renderer: GlyphRenderer(id='3109', ...)]\n",
      "ERROR:bokeh.core.validation.check:E-1001 (BAD_COLUMN_NAME): Glyph refers to nonexistent column name. This could either be due to a misspelling or typo, or due to an expected column being missing. : key \"x\" value \"name_of_the_column_that_contain_hours\" [renderer: GlyphRenderer(id='1133', ...)]\n",
      "ERROR:bokeh.core.validation.check:E-1001 (BAD_COLUMN_NAME): Glyph refers to nonexistent column name. This could either be due to a misspelling or typo, or due to an expected column being missing. : key \"x\" value \"name_of_the_column_that_contain_hours\" [renderer: GlyphRenderer(id='1042', ...)]\n",
      "ERROR:bokeh.core.validation.check:E-1001 (BAD_COLUMN_NAME): Glyph refers to nonexistent column name. This could either be due to a misspelling or typo, or due to an expected column being missing. : key \"x\" value \"hour\" (closest match: \"Hour\") [renderer: GlyphRenderer(id='3304', ...)]\n",
      "ERROR:bokeh.core.validation.check:E-1001 (BAD_COLUMN_NAME): Glyph refers to nonexistent column name. This could either be due to a misspelling or typo, or due to an expected column being missing. : key \"x\" value \"hour\" (closest match: \"Hour\") [renderer: GlyphRenderer(id='3148', ...)]\n",
      "ERROR:bokeh.core.validation.check:E-1001 (BAD_COLUMN_NAME): Glyph refers to nonexistent column name. This could either be due to a misspelling or typo, or due to an expected column being missing. : key \"x\" value \"name_of_the_column_that_contain_hours\" [renderer: GlyphRenderer(id='1151', ...)]\n",
      "ERROR:bokeh.core.validation.check:E-1001 (BAD_COLUMN_NAME): Glyph refers to nonexistent column name. This could either be due to a misspelling or typo, or due to an expected column being missing. : key \"x\" value \"hour\" (closest match: \"Hour\") [renderer: GlyphRenderer(id='2914', ...)]\n",
      "ERROR:bokeh.core.validation.check:E-1001 (BAD_COLUMN_NAME): Glyph refers to nonexistent column name. This could either be due to a misspelling or typo, or due to an expected column being missing. : key \"x\" value \"hour\" (closest match: \"Hour\") [renderer: GlyphRenderer(id='3187', ...)]\n",
      "ERROR:bokeh.core.validation.check:E-1001 (BAD_COLUMN_NAME): Glyph refers to nonexistent column name. This could either be due to a misspelling or typo, or due to an expected column being missing. : key \"x\" value \"name_of_the_column_that_contain_hours\" [renderer: GlyphRenderer(id='1169', ...)]\n",
      "ERROR:bokeh.core.validation.check:E-1001 (BAD_COLUMN_NAME): Glyph refers to nonexistent column name. This could either be due to a misspelling or typo, or due to an expected column being missing. : key \"x\" value \"hour\" (closest match: \"Hour\") [renderer: GlyphRenderer(id='2953', ...)]\n",
      "ERROR:bokeh.core.validation.check:E-1001 (BAD_COLUMN_NAME): Glyph refers to nonexistent column name. This could either be due to a misspelling or typo, or due to an expected column being missing. : key \"x\" value \"hour\" (closest match: \"Hour\") [renderer: GlyphRenderer(id='3226', ...)]\n",
      "ERROR:bokeh.core.validation.check:E-1001 (BAD_COLUMN_NAME): Glyph refers to nonexistent column name. This could either be due to a misspelling or typo, or due to an expected column being missing. : key \"x\" value \"hour\" (closest match: \"Hour\") [renderer: GlyphRenderer(id='3265', ...)]\n",
      "ERROR:bokeh.core.validation.check:E-1001 (BAD_COLUMN_NAME): Glyph refers to nonexistent column name. This could either be due to a misspelling or typo, or due to an expected column being missing. : key \"x\" value \"hour\" (closest match: \"Hour\") [renderer: GlyphRenderer(id='2797', ...)]\n",
      "ERROR:bokeh.core.validation.check:E-1001 (BAD_COLUMN_NAME): Glyph refers to nonexistent column name. This could either be due to a misspelling or typo, or due to an expected column being missing. : key \"x\" value \"hour\" (closest match: \"Hour\") [renderer: GlyphRenderer(id='2992', ...)]\n",
      "ERROR:bokeh.core.validation.check:E-1001 (BAD_COLUMN_NAME): Glyph refers to nonexistent column name. This could either be due to a misspelling or typo, or due to an expected column being missing. : key \"x\" value \"name_of_the_column_that_contain_hours\" [renderer: GlyphRenderer(id='1187', ...)]\n",
      "ERROR:bokeh.core.validation.check:E-1001 (BAD_COLUMN_NAME): Glyph refers to nonexistent column name. This could either be due to a misspelling or typo, or due to an expected column being missing. : key \"x\" value \"name_of_the_column_that_contain_hours\" [renderer: GlyphRenderer(id='1205', ...)]\n",
      "ERROR:bokeh.core.validation.check:E-1001 (BAD_COLUMN_NAME): Glyph refers to nonexistent column name. This could either be due to a misspelling or typo, or due to an expected column being missing. : key \"x\" value \"name_of_the_column_that_contain_hours\" [renderer: GlyphRenderer(id='1223', ...)]\n"
     ]
    }
   ],
   "source": [
    "show(p)"
   ]
  },
  {
   "cell_type": "code",
   "execution_count": null,
   "metadata": {},
   "outputs": [],
   "source": []
  },
  {
   "cell_type": "code",
   "execution_count": null,
   "metadata": {},
   "outputs": [],
   "source": []
  },
  {
   "cell_type": "code",
   "execution_count": null,
   "metadata": {},
   "outputs": [],
   "source": []
  },
  {
   "cell_type": "code",
   "execution_count": null,
   "metadata": {},
   "outputs": [],
   "source": []
  },
  {
   "cell_type": "markdown",
   "metadata": {},
   "source": [
    "\n",
    "\n",
    "\n",
    "If you've followed these steps, your data should be ready! Take a moment to celebrate. We now follow the [Bokeh guide for categorical data](https://docs.bokeh.org/en/latest/docs/user_guide/basic/bars.html):\n",
    "\n",
    "\n",
    "\n",
    "1. First, let's convert our **Pandas Dataframe** to **Bokeh ColumnDataSource**: \n",
    "  > ```python\n",
    "  > source = ColumnDataSource(your_processed_dataframe)\n",
    "  > ## it is a standard way to convert your df to bokeh\n",
    "  > ```\n",
    "2. We also need to create an empty figure (we will add our stuff here later on). Mini sub-exercise: Find the a guide how to define a figure in Bokeh online. Here is a little help:\n",
    "  > ```python\n",
    "  > p = figure(...., x_range = FactorRange(factors=hours), ...) \n",
    "  > #p is a standard way to call figures in Bokeh\n",
    "  > #make sure to add x_range. In my case hours is a list on the form ['1', '2', '3' ... , '24']\n",
    "  > #read up on the FactorRange in the guide\n",
    "  > #do not forget to add other attributes to the figure, e.g. title, axis names and so on\n",
    "  > ```\n",
    "3. Now we are going to add the bars. In order to do so, we will use **vbar** (see the guide for help):\n",
    "  > ```python\n",
    "  > bar ={} # to store vbars\n",
    "  > ### here we will do a for loop:\n",
    "  > for indx,i in enumerate(focuscrimes):\n",
    "  >     bar[i] = p.vbar(x='name_of_the_column_that_contain_hours',  top=i, source= src, \n",
    "  >                     ### we will create a vbar for each focuscrime\n",
    "  >                     legend_label=i,  muted_alpha=..., muted = ....) \n",
    "  > #i stands for a column that we use, top=y; we are specifying that our numbers comes from column i\n",
    "  > #read up what legend_label, muted and muted_alpha do... you can add more attributes (you HAVE TO)\n",
    "  > ```\n",
    "4. The last thing to do is to make your legend interactive and display the figure:\n",
    "  > ```python\n",
    "  > p.legend.click_policy=\"mute\" ### assigns the click policy (you can try to use ''hide'\n",
    "  > show(p) #displays your plot\n",
    "  > ```\n",
    "5. You will notice that the legend appears in the middle of the figure (and it occludes some of the data). In order to fix this look into [this guide](https://stackoverflow.com/questions/26254619/position-of-the-legend-in-a-bokeh-plot) as a start. Below are some code snippets that you can use to deal with this problem (but read the guide first):\n",
    "  > ```python\n",
    "  > items = [] ### for the custom legend // you need to figure out where to add it\n",
    "  > items.append((i, [bar[i]])) ### figure where to add it\n",
    "  > legend = Legend(items=..., location=.....) ## figure where to add it\n",
    "  > p.add_layout(...., ...) ## figure where to add it\n",
    "  > ### if you read the guide, it will make sense\n",
    "  > ```\n",
    "\n",
    "Now you should be able to recreate this amazing visualisation.\n",
    "\n",
    "\n",
    "**EXTRA feature**: If you're interested in detailed instructions for more Bokeh visualizations for your final project, you can find more inspiration **[here](https://github.com/suneman/socialdata2021/blob/main/lectures/Week8_extra_bokeh.ipynb)**."
   ]
  },
  {
   "cell_type": "markdown",
   "metadata": {},
   "source": [
    "## Part 3: Narrative Dataviz\n",
    "\n",
    "Let's finish up with some reading\n",
    "\n",
    "*Reading*: [Narrative Visualization: Telling Stories with Data](http://vis.stanford.edu/files/2010-Narrative-InfoVis.pdf) by Edward Segel and Jeffrey Heer. We'll read section 1-3 today. (And the rest a bit later).\n",
    "\n",
    "When you get to section 3 it's fun to open up the examples mentioned by the authors in a browser and explore them as you read the text. \n",
    "\n",
    "> *Exercise*: Answer a couple of questions about the paper.\n",
    "> \n",
    "> * What is the *Oxford English Dictionary's* defintion of a narrative?\n",
    "> * What is your favorite visualization among the examples in section 3? Explain why in a few words."
   ]
  },
  {
   "cell_type": "code",
   "execution_count": null,
   "metadata": {},
   "outputs": [],
   "source": []
  }
 ],
 "metadata": {
  "kernelspec": {
   "display_name": "Python 3 (ipykernel)",
   "language": "python",
   "name": "python3"
  },
  "language_info": {
   "codemirror_mode": {
    "name": "ipython",
    "version": 3
   },
   "file_extension": ".py",
   "mimetype": "text/x-python",
   "name": "python",
   "nbconvert_exporter": "python",
   "pygments_lexer": "ipython3",
   "version": "3.9.12"
  }
 },
 "nbformat": 4,
 "nbformat_minor": 4
}
